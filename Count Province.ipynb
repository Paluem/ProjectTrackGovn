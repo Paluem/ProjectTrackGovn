{
 "cells": [
  {
   "cell_type": "markdown",
   "id": "deff3a63",
   "metadata": {},
   "source": [
    "# This Sheet will count province that was mention in description of each Government project."
   ]
  },
  {
   "cell_type": "markdown",
   "id": "0b1aafaf",
   "metadata": {},
   "source": [
    "### import the library "
   ]
  },
  {
   "cell_type": "code",
   "execution_count": 1,
   "id": "0ae7b04c",
   "metadata": {},
   "outputs": [],
   "source": [
    "import re\n",
    "import string\n",
    "from pythainlp import word_tokenize\n",
    "from pythainlp.util import normalize\n",
    "import csv\n",
    "from collections import Counter\n",
    "import matplotlib.pyplot as plt"
   ]
  },
  {
   "cell_type": "markdown",
   "id": "5d84a28b",
   "metadata": {},
   "source": [
    "### Def clean method"
   ]
  },
  {
   "cell_type": "code",
   "execution_count": 2,
   "id": "f5d710c9",
   "metadata": {},
   "outputs": [],
   "source": [
    "def clean_msg(msg):\n",
    "    # ลบ text ที่อยู่ในวงเล็บ <> ทั้งหมด\n",
    "    msg = re.sub(r'<.*?>', '', msg)\n",
    "\n",
    "    # ลบ hashtag\n",
    "    msg = re.sub(r'#', '', msg)\n",
    "\n",
    "    # ลบ เครื่องหมายคำพูด (punctuation)\n",
    "    for c in string.punctuation:\n",
    "        msg = re.sub(r'\\{}'.format(c), '', msg)\n",
    "\n",
    "    # ลบ separator เช่น \\n \\t\n",
    "    msg = ' '.join(msg.split())\n",
    "\n",
    "    return msg"
   ]
  },
  {
   "cell_type": "markdown",
   "id": "350eab5f",
   "metadata": {},
   "source": [
    "### Open file that consist of lines of description text and create list to store all every time that each province was mention."
   ]
  },
  {
   "cell_type": "code",
   "execution_count": 3,
   "id": "cb390df7",
   "metadata": {},
   "outputs": [],
   "source": [
    "file = open(\"ITM_DES_DIS_ALL_202312281121.csv\", \"r\", encoding=\"utf8\")\n",
    "reader = csv.reader(file)\n",
    "data = list(reader)\n",
    "# print(data[0])\n",
    "word_province = []\n",
    "provinces_thailand = [\n",
    "    'กรุงเทพมหานคร', 'กระบี่', 'กาญจนบุรี', 'กาฬสินธุ์', 'กำแพงเพชร', 'ขอนแก่น', 'จันทบุรี', 'ฉะเชิงเทรา',\n",
    "    'ชลบุรี', 'ชัยนาท', 'ชัยภูมิ', 'ชุมพร', 'เชียงราย', 'เชียงใหม่', 'ตรัง', 'ตราด', 'ตาก', 'นครนายก', 'นครปฐม',\n",
    "    'นครพนม', 'นครราชสีมา', 'นครศรีธรรมราช', 'นครสวรรค์', 'นนทบุรี', 'นราธิวาส', 'น่าน', 'บึงกาฬ', 'บุรีรัมย์',\n",
    "    'ปทุมธานี', 'ประจวบคีรีขันธ์', 'ปราจีนบุรี', 'ปัตตานี', 'พระนครศรีอยุธยา', 'พังงา', 'พัทลุง', 'พิจิตร',\n",
    "    'พิษณุโลก', 'เพชรบุรี', 'เพชรบูรณ์', 'แพร่', 'พะเยา', 'ภูเก็ต', 'ภูเพียง', 'มหาสารคาม', 'มุกดาหาร', 'แม่ฮ่องสอน',\n",
    "    'ยโสธร', 'ยะลา', 'ร้อยเอ็ด', 'ระนอง', 'ระยอง', 'ราชบุรี', 'ลพบุรี', 'ลำปาง', 'ลำพูน', 'เลย', 'ศรีสะเกษ', 'สกลนคร',\n",
    "    'สงขลา', 'สตูล', 'สมุทรปราการ', 'สมุทรสงคราม', 'สมุทรสาคร', 'สระแก้ว', 'สระบุรี', 'สิงห์บุรี', 'สุโขทัย',\n",
    "    'สุพรรณบุรี',\n",
    "    'สุราษฎร์ธานี', 'สุรินทร์', 'หนองคาย', 'หนองบัวลำภู', 'อ่างทอง', 'อำนาจเจริญ', 'อุดรธานี', 'อุทัยธานี', 'อุตรดิตถ์',\n",
    "    'อุบลราชธานี', 'อ่าวนาง']\n",
    "\n",
    "# n=1\n",
    "with open('sum.txt', 'a', encoding=\"utf8\") as sum, open('fail.txt', 'a', encoding=\"utf8\") as fa:\n",
    "    for i in data:\n",
    "        normalization_word = normalize((i[0]).strip('\\n'))\n",
    "        clean_1 = clean_msg(normalization_word)\n",
    "        word = word_tokenize(clean_1, keep_whitespace=False, engine='newmm')\n",
    "        for o in word:\n",
    "            if o in provinces_thailand:\n",
    "                word_province.append(o)\n",
    "\n",
    "\n",
    "file.close()"
   ]
  },
  {
   "cell_type": "markdown",
   "id": "3a878bb4",
   "metadata": {},
   "source": [
    "### Create dictionary for each province count."
   ]
  },
  {
   "cell_type": "code",
   "execution_count": 4,
   "id": "abfa5b14",
   "metadata": {},
   "outputs": [],
   "source": [
    "highest_10 = []\n",
    "k = Counter(word_province)\n",
    "high = {}\n",
    "\n",
    "# Finding 3 highest values\n",
    "# high = k.most_common(10)\n",
    "\n",
    "# print(k)\n",
    "# print(high)\n",
    "\n",
    "for i in k:\n",
    "    if len(highest_10) < 11:\n",
    "        highest_10.append(k[i])\n",
    "    else:\n",
    "        if min(highest_10) < k[i]:\n",
    "            highest_10.remove(min(highest_10))\n",
    "            highest_10.append(k[i])\n",
    "         \n",
    "\n",
    "for i in k:\n",
    "    if k[i] in highest_10:\n",
    "        high[i] = k[i]        "
   ]
  },
  {
   "cell_type": "markdown",
   "id": "c46a3d61",
   "metadata": {},
   "source": [
    "### Create bar chart."
   ]
  },
  {
   "cell_type": "code",
   "execution_count": 6,
   "id": "517cef16",
   "metadata": {},
   "outputs": [
    {
     "data": {
      "text/plain": [
       "<BarContainer object of 11 artists>"
      ]
     },
     "execution_count": 6,
     "metadata": {},
     "output_type": "execute_result"
    },
    {
     "data": {
      "image/png": "[encoded data removed]",
      "text/plain": [
       "<Figure size 2000x200 with 1 Axes>"
      ]
     },
     "metadata": {},
     "output_type": "display_data"
    }
   ],
   "source": [
    "fig = plt.figure(figsize=(20, 2))\n",
    "ax = fig.add_subplot(111)\n",
    "plt.rcParams['font.family'] = 'Tahoma'\n",
    "plt.bar(high.keys(), high.values())"
   ]
  },
  {
   "cell_type": "code",
   "execution_count": null,
   "id": "cc4d299f",
   "metadata": {},
   "outputs": [],
   "source": []
  }
 ],
 "metadata": {
  "kernelspec": {
   "display_name": "Python 3 (ipykernel)",
   "language": "python",
   "name": "python3"
  },
  "language_info": {
   "codemirror_mode": {
    "name": "ipython",
    "version": 3
   },
   "file_extension": ".py",
   "mimetype": "text/x-python",
   "name": "python",
   "nbconvert_exporter": "python",
   "pygments_lexer": "ipython3",
   "version": "3.11.5"
  }
 },
 "nbformat": 4,
 "nbformat_minor": 5
}
